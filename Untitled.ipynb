{
 "cells": [
  {
   "cell_type": "code",
   "execution_count": 3,
   "id": "64e2849b",
   "metadata": {},
   "outputs": [
    {
     "ename": "ModuleNotFoundError",
     "evalue": "No module named 'pvlib'",
     "output_type": "error",
     "traceback": [
      "\u001b[0;31m---------------------------------------------------------------------------\u001b[0m",
      "\u001b[0;31mModuleNotFoundError\u001b[0m                       Traceback (most recent call last)",
      "Cell \u001b[0;32mIn[3], line 1\u001b[0m\n\u001b[0;32m----> 1\u001b[0m \u001b[38;5;28;01mimport\u001b[39;00m \u001b[38;5;21;01mpvlib\u001b[39;00m\n\u001b[1;32m      2\u001b[0m \u001b[38;5;28;01mimport\u001b[39;00m \u001b[38;5;21;01mpandas\u001b[39;00m \u001b[38;5;28;01mas\u001b[39;00m \u001b[38;5;21;01mpd\u001b[39;00m\n\u001b[1;32m      4\u001b[0m \u001b[38;5;28;01mdef\u001b[39;00m \u001b[38;5;21mobtain_panel_power_data\u001b[39m(lat, lon, start, end, name, tilt, azimuth, panels, peakpower):\n",
      "\u001b[0;31mModuleNotFoundError\u001b[0m: No module named 'pvlib'"
     ]
    }
   ],
   "source": [
    "import pvlib\n",
    "import pandas as pd\n",
    "\n",
    "def obtain_panel_power_data(lat, lon, start, end, name, tilt, azimuth, panels, peakpower):\n",
    "    \"\"\"\n",
    "    Determine the solarradiation and generated power for a given solar panel configuration.\n",
    "    For each hour between startdate and enddate the data is retrieved and calculated.\n",
    "    :param lat: Latitude of the location\n",
    "    :param lon: Longitude of the location\n",
    "    :param start: Startdate for data retrievel\n",
    "    :param end: Endddate for data retrievel\n",
    "    :param name: Name of the panel location on the object\n",
    "    :param tilt: Tilt of the solar panels (0 is flat, 90 is standing straight)\n",
    "    :param azimuth: Direction the panels, 0 is South, negative from south to east, positive from south to west\n",
    "    :param panels: Number of panels on the location\n",
    "    :param peakpower: Peakpower per panel\n",
    "    :return:\n",
    "    \"\"\"\n",
    "    if panels > 0:\n",
    "        poa, _, _ = pvlib.iotools.get_pvgis_hourly(\n",
    "            latitude=lat, longitude=lon, start=start, end=end,\n",
    "            surface_tilt=tilt, surface_azimuth=-azimuth,\n",
    "            pvcalculation=True, peakpower=peakpower*panels,\n",
    "            components=True, raddatabase='PVGIS-SARAH2', url='https://re.jrc.ec.europa.eu/api/v5_2/',\n",
    "            )\n",
    "    else:\n",
    "        poa, _, _ = pvlib.iotools.get_pvgis_hourly(\n",
    "            latitude=lat, longitude=lon, start=start, end=end,\n",
    "            surface_tilt=tilt, surface_azimuth=-azimuth,\n",
    "            pvcalculation=False,\n",
    "            components=True, raddatabase='PVGIS-SARAH2', url='https://re.jrc.ec.europa.eu/api/v5_2/',\n",
    "            )\n",
    "        poa['P'] = 0.0\n",
    "    poa['date'] = pd.to_datetime(poa.index.date)\n",
    "    poa['location'] = name\n"
   ]
  },
  {
   "cell_type": "code",
   "execution_count": null,
   "id": "50d43585",
   "metadata": {},
   "outputs": [],
   "source": []
  }
 ],
 "metadata": {
  "kernelspec": {
   "display_name": "Python 3 (ipykernel)",
   "language": "python",
   "name": "python3"
  },
  "language_info": {
   "codemirror_mode": {
    "name": "ipython",
    "version": 3
   },
   "file_extension": ".py",
   "mimetype": "text/x-python",
   "name": "python",
   "nbconvert_exporter": "python",
   "pygments_lexer": "ipython3",
   "version": "3.10.6"
  }
 },
 "nbformat": 4,
 "nbformat_minor": 5
}
